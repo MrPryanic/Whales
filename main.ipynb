{
 "cells": [
  {
   "cell_type": "code",
   "execution_count": 1,
   "metadata": {},
   "outputs": [],
   "source": [
    "import pandas as pd\n",
    "from datetime import datetime\n",
    "from ydata_profiling import ProfileReport\n"
   ]
  },
  {
   "attachments": {},
   "cell_type": "markdown",
   "metadata": {},
   "source": [
    "Read csv file. To reduce the operating time, let's temporary work with first 1kk rows. "
   ]
  },
  {
   "cell_type": "code",
   "execution_count": 2,
   "metadata": {},
   "outputs": [
    {
     "data": {
      "text/html": [
       "<div>\n",
       "<style scoped>\n",
       "    .dataframe tbody tr th:only-of-type {\n",
       "        vertical-align: middle;\n",
       "    }\n",
       "\n",
       "    .dataframe tbody tr th {\n",
       "        vertical-align: top;\n",
       "    }\n",
       "\n",
       "    .dataframe thead th {\n",
       "        text-align: right;\n",
       "    }\n",
       "</style>\n",
       "<table border=\"1\" class=\"dataframe\">\n",
       "  <thead>\n",
       "    <tr style=\"text-align: right;\">\n",
       "      <th></th>\n",
       "      <th>id</th>\n",
       "      <th>price</th>\n",
       "      <th>qty</th>\n",
       "      <th>quoteQty</th>\n",
       "      <th>time</th>\n",
       "      <th>isMaker</th>\n",
       "      <th>isBestMatch</th>\n",
       "    </tr>\n",
       "  </thead>\n",
       "  <tbody>\n",
       "    <tr>\n",
       "      <th>0</th>\n",
       "      <td>2940109663</td>\n",
       "      <td>21998.05</td>\n",
       "      <td>0.00154</td>\n",
       "      <td>33.876997</td>\n",
       "      <td>1678665600003</td>\n",
       "      <td>False</td>\n",
       "      <td>True</td>\n",
       "    </tr>\n",
       "    <tr>\n",
       "      <th>1</th>\n",
       "      <td>2940109664</td>\n",
       "      <td>21997.11</td>\n",
       "      <td>0.00094</td>\n",
       "      <td>20.677283</td>\n",
       "      <td>1678665600004</td>\n",
       "      <td>True</td>\n",
       "      <td>True</td>\n",
       "    </tr>\n",
       "    <tr>\n",
       "      <th>2</th>\n",
       "      <td>2940109665</td>\n",
       "      <td>21997.11</td>\n",
       "      <td>0.00073</td>\n",
       "      <td>16.057890</td>\n",
       "      <td>1678665600004</td>\n",
       "      <td>True</td>\n",
       "      <td>True</td>\n",
       "    </tr>\n",
       "    <tr>\n",
       "      <th>3</th>\n",
       "      <td>2940109666</td>\n",
       "      <td>21998.05</td>\n",
       "      <td>0.00215</td>\n",
       "      <td>47.295808</td>\n",
       "      <td>1678665600007</td>\n",
       "      <td>False</td>\n",
       "      <td>True</td>\n",
       "    </tr>\n",
       "    <tr>\n",
       "      <th>4</th>\n",
       "      <td>2940109667</td>\n",
       "      <td>21998.08</td>\n",
       "      <td>0.00058</td>\n",
       "      <td>12.758886</td>\n",
       "      <td>1678665600007</td>\n",
       "      <td>False</td>\n",
       "      <td>True</td>\n",
       "    </tr>\n",
       "    <tr>\n",
       "      <th>5</th>\n",
       "      <td>2940109668</td>\n",
       "      <td>21998.26</td>\n",
       "      <td>0.00054</td>\n",
       "      <td>11.879060</td>\n",
       "      <td>1678665600007</td>\n",
       "      <td>False</td>\n",
       "      <td>True</td>\n",
       "    </tr>\n",
       "    <tr>\n",
       "      <th>6</th>\n",
       "      <td>2940109669</td>\n",
       "      <td>21997.11</td>\n",
       "      <td>0.00066</td>\n",
       "      <td>14.518093</td>\n",
       "      <td>1678665600007</td>\n",
       "      <td>True</td>\n",
       "      <td>True</td>\n",
       "    </tr>\n",
       "    <tr>\n",
       "      <th>7</th>\n",
       "      <td>2940109670</td>\n",
       "      <td>21997.11</td>\n",
       "      <td>0.00225</td>\n",
       "      <td>49.493497</td>\n",
       "      <td>1678665600008</td>\n",
       "      <td>True</td>\n",
       "      <td>True</td>\n",
       "    </tr>\n",
       "    <tr>\n",
       "      <th>8</th>\n",
       "      <td>2940109671</td>\n",
       "      <td>21998.26</td>\n",
       "      <td>0.00012</td>\n",
       "      <td>2.639791</td>\n",
       "      <td>1678665600014</td>\n",
       "      <td>False</td>\n",
       "      <td>True</td>\n",
       "    </tr>\n",
       "    <tr>\n",
       "      <th>9</th>\n",
       "      <td>2940109672</td>\n",
       "      <td>21998.29</td>\n",
       "      <td>0.00656</td>\n",
       "      <td>144.308782</td>\n",
       "      <td>1678665600014</td>\n",
       "      <td>False</td>\n",
       "      <td>True</td>\n",
       "    </tr>\n",
       "  </tbody>\n",
       "</table>\n",
       "</div>"
      ],
      "text/plain": [
       "           id     price      qty    quoteQty           time  isMaker  \\\n",
       "0  2940109663  21998.05  0.00154   33.876997  1678665600003    False   \n",
       "1  2940109664  21997.11  0.00094   20.677283  1678665600004     True   \n",
       "2  2940109665  21997.11  0.00073   16.057890  1678665600004     True   \n",
       "3  2940109666  21998.05  0.00215   47.295808  1678665600007    False   \n",
       "4  2940109667  21998.08  0.00058   12.758886  1678665600007    False   \n",
       "5  2940109668  21998.26  0.00054   11.879060  1678665600007    False   \n",
       "6  2940109669  21997.11  0.00066   14.518093  1678665600007     True   \n",
       "7  2940109670  21997.11  0.00225   49.493497  1678665600008     True   \n",
       "8  2940109671  21998.26  0.00012    2.639791  1678665600014    False   \n",
       "9  2940109672  21998.29  0.00656  144.308782  1678665600014    False   \n",
       "\n",
       "   isBestMatch  \n",
       "0         True  \n",
       "1         True  \n",
       "2         True  \n",
       "3         True  \n",
       "4         True  \n",
       "5         True  \n",
       "6         True  \n",
       "7         True  \n",
       "8         True  \n",
       "9         True  "
      ]
     },
     "execution_count": 2,
     "metadata": {},
     "output_type": "execute_result"
    }
   ],
   "source": [
    "df = pd.read_csv('BTCUSDT-trades-2023-03-13.csv', names=['id', 'price', 'qty', 'quoteQty', 'time', 'isMaker', 'isBestMatch'], nrows=1000000)\n",
    "df.head(10)\n"
   ]
  },
  {
   "attachments": {},
   "cell_type": "markdown",
   "metadata": {},
   "source": [
    "Prepare the dataframe:\n",
    "* Since we have auto id numbering -> delete id column.\n",
    "* since it's 1d trades date -> delete time column.\n",
    "* rename quoteQty -> usdt"
   ]
  },
  {
   "cell_type": "code",
   "execution_count": 3,
   "metadata": {},
   "outputs": [],
   "source": [
    "df = df.drop(columns=['time', 'id'])\n",
    "df =df.rename(columns={'quoteQty': 'usdt'})"
   ]
  },
  {
   "attachments": {},
   "cell_type": "markdown",
   "metadata": {},
   "source": [
    "It's more convinient to operate and analyse <b>usdt</b> equivalent.\n",
    "For whales catching need to filter trades: usdt => 1000.\n",
    "\n",
    "\n",
    "isMaker means that buyer made the order to desired price. In our case, someone wanted to buy tokens \"not higher than\", which is looks like a preparation for upcoming pump. \n",
    "\n",
    "That's why we will work only with isMaker == True. "
   ]
  },
  {
   "cell_type": "code",
   "execution_count": 4,
   "metadata": {},
   "outputs": [],
   "source": [
    "df = df[df['isMaker'] == True]\n",
    "df = df[df['usdt'] >= 1000]"
   ]
  },
  {
   "attachments": {},
   "cell_type": "markdown",
   "metadata": {},
   "source": [
    "I believe that The Whales don't want to be \"catched\" and will not make enormous giant trades. "
   ]
  },
  {
   "cell_type": "code",
   "execution_count": 5,
   "metadata": {},
   "outputs": [
    {
     "data": {
      "text/plain": [
       "706800.4596"
      ]
     },
     "execution_count": 5,
     "metadata": {},
     "output_type": "execute_result"
    }
   ],
   "source": [
    "df['usdt'].max()"
   ]
  },
  {
   "cell_type": "code",
   "execution_count": 7,
   "metadata": {},
   "outputs": [],
   "source": [
    "profile = ProfileReport(df, title='Profile Report')\n",
    "# profile.to_notebook_iframe()"
   ]
  },
  {
   "cell_type": "code",
   "execution_count": null,
   "metadata": {},
   "outputs": [],
   "source": []
  }
 ],
 "metadata": {
  "kernelspec": {
   "display_name": "Python 3",
   "language": "python",
   "name": "python3"
  },
  "language_info": {
   "codemirror_mode": {
    "name": "ipython",
    "version": 3
   },
   "file_extension": ".py",
   "mimetype": "text/x-python",
   "name": "python",
   "nbconvert_exporter": "python",
   "pygments_lexer": "ipython3",
   "version": "3.11.2"
  },
  "orig_nbformat": 4
 },
 "nbformat": 4,
 "nbformat_minor": 2
}
